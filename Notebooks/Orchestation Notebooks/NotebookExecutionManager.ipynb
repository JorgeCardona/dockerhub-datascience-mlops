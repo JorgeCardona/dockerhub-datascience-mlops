{
 "cells": [
  {
   "cell_type": "code",
   "execution_count": 1,
   "id": "0cb83e88-56bc-45b2-91aa-9b5f600068f6",
   "metadata": {
    "scrolled": true
   },
   "outputs": [],
   "source": [
    "# python notebook_orchestation.py \n",
    "\n",
    "import os\n",
    "import papermill as pm\n",
    "import logging\n",
    "from IPython.display import display, HTML\n",
    "import ast\n",
    "\n",
    "# Set up the logging configuration\n",
    "logging.basicConfig(\n",
    "    level=logging.INFO,  # You can change the level to DEBUG for more detailed logs\n",
    "    format=\"%(asctime)s - %(levelname)s - %(message)s\",\n",
    ")\n",
    "\n",
    "class NotebookExecutionManager:\n",
    "    def __init__(self, processed_directory: str = \"./processed_notebook\") -> None:\n",
    "        \"\"\"\n",
    "        Initializes the NotebookExecutionManager with a directory for processed notebooks.\n",
    "\n",
    "        Args:\n",
    "            processed_directory (str): Directory to store processed notebooks.\n",
    "        \"\"\"\n",
    "        self.processed_directory = processed_directory\n",
    "\n",
    "    def create_directory_if_not_exists(self, directory: str) -> None:\n",
    "        \"\"\"\n",
    "        Ensures that the specified directory exists. If it doesn't, the directory is created.\n",
    "\n",
    "        Parameters:\n",
    "        directory (str): The path of the directory to check or create.\n",
    "        \"\"\"\n",
    "        if not os.path.exists(directory):\n",
    "            os.makedirs(directory)\n",
    "            logging.info(f\"Directory {directory} created.\")\n",
    "\n",
    "    def run_notebook_with_parameters(self, notebook_input_path: str, notebook_output_path: str, params: dict) -> pm.execute_notebook:\n",
    "        \"\"\"\n",
    "        Executes a single Jupyter notebook with specified parameters and saves the result\n",
    "        in the processed notebooks directory.\n",
    "\n",
    "        Parameters:\n",
    "        notebook_input_path (str): The path to the input notebook to execute.\n",
    "        notebook_output_path (str): The path to save the processed notebook result.\n",
    "        params (dict): The parameters to pass to the notebook.\n",
    "\n",
    "        Returns:\n",
    "        pm.execute_notebook: The executed notebook result.\n",
    "        \"\"\"\n",
    "        # Ensure the processed notebooks directory exists\n",
    "        self.create_directory_if_not_exists(self.processed_directory)\n",
    "\n",
    "        logging.info(f\"Executing {notebook_input_path} with parameters ⚡ {params} ⚡ ...\")\n",
    "        try:\n",
    "            # Execute the notebook with the provided parameters\n",
    "            execution = pm.execute_notebook(\n",
    "                input_path=notebook_input_path,\n",
    "                output_path=notebook_output_path,\n",
    "                parameters=params\n",
    "            )\n",
    "            # Create a hyperlink for the result\n",
    "            display(HTML(f\"✅ Execution successful, check the result at the following link -> <a href='{notebook_output_path}' target='_blank'>{notebook_output_path}</a>\"))\n",
    "            logging.info(f\"Execution of {notebook_input_path} was successful.\")\n",
    "        except Exception as e:\n",
    "            logging.error(f\"Error executing {notebook_input_path}: {e}\")\n",
    "            execution = None\n",
    "            display(HTML(f\"❌ Execution failed, check the error details and result at the following link -> <a href='{notebook_output_path}' target='_blank'>{notebook_output_path}</a>\"))\n",
    "        logging.info(f\"Execution finished for {notebook_input_path}\")\n",
    "        return execution\n",
    "\n",
    "    def extract_variable_data_from_notebook_cells(self, notebook_data: dict) -> dict:\n",
    "        \"\"\"\n",
    "        Extracts variable data from the notebook cells and outputs the variable name,\n",
    "        the operation (source), and the value associated with each variable.\n",
    "\n",
    "        Args:\n",
    "            notebook_data (dict): The content of the notebook in dictionary format.\n",
    "\n",
    "        Returns:\n",
    "            dict: A dictionary with cell execution count as keys and a dictionary of \n",
    "                  'variable_operation', 'variable_name', and 'variable_value'.\n",
    "        \"\"\"\n",
    "        output_values = {}\n",
    "        metadata = {}\n",
    "\n",
    "        if notebook_data and isinstance(notebook_data, dict):\n",
    "            for cell in notebook_data.get('cells', []):\n",
    "                if cell.get('cell_type') == 'code' and 'outputs' in cell:\n",
    "                    for output in cell.get('outputs', []):\n",
    "                        text_plain = output.get('data', {}).get('text/plain')\n",
    "                        if text_plain:\n",
    "                            source = cell.get('source', '').strip()\n",
    "\n",
    "                            if \"=\" in source:\n",
    "                                variable_names = [var.strip() for var in source.split(\"=\")[0].split(\",\")]\n",
    "                                values = [text_plain.strip()]\n",
    "\n",
    "                                if len(variable_names) > 1:\n",
    "                                    if text_plain.strip().startswith('[') or text_plain.strip().startswith('('):\n",
    "                                        values = text_plain.strip()[1:-1].split(',')\n",
    "                                    else:\n",
    "                                        values = text_plain.strip().split(',')\n",
    "                                    values = [val.strip() for val in values]\n",
    "\n",
    "                                    for i, variable in enumerate(variable_names):\n",
    "                                        key = f\"cell_{cell.get('execution_count')}_{i + 1}\"\n",
    "                                        output_values[key] = {\n",
    "                                            \"execution_cell_number\": f\"cell_{cell.get('execution_count')}\",\n",
    "                                            \"variable_operation\": source,\n",
    "                                            \"variable_name\": variable,\n",
    "                                            \"variable_value\": values[i] if i < len(values) else None\n",
    "                                        }\n",
    "                                else:\n",
    "                                    output_values[f\"cell_{cell.get('execution_count')}\"] = {\n",
    "                                        \"execution_cell_number\": f\"cell_{cell.get('execution_count')}\",\n",
    "                                        \"variable_operation\": source,\n",
    "                                        \"variable_name\": variable_names[0],\n",
    "                                        \"variable_value\": values[0]\n",
    "                                    }\n",
    "                            else:\n",
    "                                variable_name = source.split()[0] if source else None\n",
    "                                output_values[f\"cell_{cell.get('execution_count')}\"] = {\n",
    "                                    \"execution_cell_number\": f\"cell_{cell.get('execution_count')}\",\n",
    "                                    \"variable_operation\": source,\n",
    "                                    \"variable_name\": variable_name,\n",
    "                                    \"variable_value\": text_plain\n",
    "                                }\n",
    "            metadata = notebook_data.get('metadata', {}).get('papermill', {})\n",
    "            output_values['metadata'] = metadata\n",
    "        return output_values\n",
    "\n",
    "    def display_notebook_variables_and_values_extracted_from_notebook(self, extracted_variables_data_from_notebook: dict) -> dict:\n",
    "        \"\"\"\n",
    "        Displays the extracted variables and their values from the notebook.\n",
    "\n",
    "        Args:\n",
    "            extracted_variables_data_from_notebook (dict): The extracted variables data.\n",
    "\n",
    "        Returns:\n",
    "            dict: A dictionary of variables and their values.\n",
    "        \"\"\"\n",
    "        # Initialize an empty dictionary to store variable names and values\n",
    "        variables = {}\n",
    "        \n",
    "        # Extract metadata from the notebook, if it exists\n",
    "        metadata = extracted_variables_data_from_notebook.get('metadata', {})\n",
    "        \n",
    "        # Check if the input is valid and contains metadata\n",
    "        if extracted_variables_data_from_notebook and isinstance(extracted_variables_data_from_notebook, dict) and metadata:\n",
    "            # Log relevant information from the metadata\n",
    "            logging.info(f\"📓 Notebook Name: {metadata.get('input_path', 'N/A').split('/')[-1]}\")\n",
    "            logging.info(f\"⚙️ Default Parameters: {metadata.get('default_parameters', 'N/A')}\")\n",
    "            logging.info(f\"🔧 Parameters: {metadata.get('parameters', 'N/A')}\")\n",
    "            logging.info(f\"🌐 Environment Variables: {metadata.get('environment_variables', 'N/A')}\")\n",
    "            logging.info(f\"📥 Input Path: {metadata.get('input_path', 'N/A')}\")\n",
    "            logging.info(f\"📤 Output Path: {metadata.get('output_path', 'N/A')}\")\n",
    "            logging.info(f\"⚠️ Exception: {metadata.get('exception', 'None')}\")\n",
    "            logging.info(\"\")\n",
    "            \n",
    "            # Iterate through each item in the extracted variables from the notebook\n",
    "            for key, value in extracted_variables_data_from_notebook.items():\n",
    "                # If the key is not 'metadata' and the value is a dictionary, process it\n",
    "                if key != 'metadata' and isinstance(value, dict):\n",
    "                    # Retrieve the variable name and its corresponding value\n",
    "                    variable_name = value.get('variable_name', None)\n",
    "                    variable_value = value.get('variable_value', None)\n",
    "                    \n",
    "                    # Try to safely parse the variable value using ast.literal_eval\n",
    "                    try:\n",
    "                        # Attempt to evaluate the value as a Python literal (list, dict, int, float, etc.)\n",
    "                        variable_value = ast.literal_eval(str(variable_value))\n",
    "                    except (ValueError, SyntaxError) as e:\n",
    "                        # If parsing fails, keep the value as a string and log the error\n",
    "                        logging.warning(f\"⚠️ Failed to parse value for variable '{variable_name}'. Keeping it as a string. Error: {e}\")\n",
    "                        variable_value = str(variable_value)  # Fallback to string representation\n",
    "        \n",
    "                    # Log the details of the execution cell and variable\n",
    "                    logging.info(f\"⚓ Execution Cell Number: {value.get('execution_cell_number', 'N/A')}\")\n",
    "                    logging.info(f\"🌀 Operation in the Cell: {value.get('variable_operation', 'N/A')}\")\n",
    "                    logging.info(f\"♻️ Variable Cell Name: {variable_name}\")\n",
    "                    logging.info(f\"ℹ️ Result of the Cell: {variable_value}\")\n",
    "                    logging.info(\"\")\n",
    "                    \n",
    "                    # Add the variable to the dictionary\n",
    "                    if variable_name:\n",
    "                        variables[variable_name] = variable_value\n",
    "        else:\n",
    "            # If the input is invalid or empty, log a warning\n",
    "            logging.warning(\"⛔ Skipping invalid or empty notebook entry.\")\n",
    "            logging.info(\"\")\n",
    "        \n",
    "        # Return the dictionary of extracted variables\n",
    "        return variables"
   ]
  },
  {
   "cell_type": "code",
   "execution_count": 2,
   "id": "ad82659e-fd09-4143-ad27-ccf59b034286",
   "metadata": {
    "scrolled": true
   },
   "outputs": [
    {
     "name": "stderr",
     "output_type": "stream",
     "text": [
      "2024-11-22 21:46:28,265 - INFO - Executing ./1_Add.ipynb with parameters ⚡ {'params': [10, 5, 7]} ⚡ ...\n",
      "2024-11-22 21:46:28,269 - INFO - Input Notebook:  ./1_Add.ipynb\n",
      "2024-11-22 21:46:28,271 - INFO - Output Notebook: ./processed_notebook/add_executed.ipynb\n",
      "2024-11-22 21:46:28,369 - WARNING - Passed unknown parameter: params\n"
     ]
    },
    {
     "data": {
      "application/vnd.jupyter.widget-view+json": {
       "model_id": "2a2a6f669efc4382825027ca9f2ec5ef",
       "version_major": 2,
       "version_minor": 0
      },
      "text/plain": [
       "Executing:   0%|          | 0/4 [00:00<?, ?cell/s]"
      ]
     },
     "metadata": {},
     "output_type": "display_data"
    },
    {
     "name": "stderr",
     "output_type": "stream",
     "text": [
      "2024-11-22 21:46:30,102 - INFO - Executing notebook with kernel: python3\n"
     ]
    },
    {
     "data": {
      "text/html": [
       "✅ Execution successful, check the result at the following link -> <a href='./processed_notebook/add_executed.ipynb' target='_blank'>./processed_notebook/add_executed.ipynb</a>"
      ],
      "text/plain": [
       "<IPython.core.display.HTML object>"
      ]
     },
     "metadata": {},
     "output_type": "display_data"
    },
    {
     "name": "stderr",
     "output_type": "stream",
     "text": [
      "2024-11-22 21:46:30,441 - INFO - Execution of ./1_Add.ipynb was successful.\n",
      "2024-11-22 21:46:30,444 - INFO - Execution finished for ./1_Add.ipynb\n",
      "2024-11-22 21:46:30,447 - INFO - Executing ./4_Divide.ipynb with parameters ⚡ {'x': 20, 'y': 0} ⚡ ...\n",
      "2024-11-22 21:46:30,450 - INFO - Input Notebook:  ./4_Divide.ipynb\n",
      "2024-11-22 21:46:30,452 - INFO - Output Notebook: ./processed_notebook/divide_executed.ipynb\n"
     ]
    },
    {
     "data": {
      "application/vnd.jupyter.widget-view+json": {
       "model_id": "c9290b5dacc14c2496d1476fd6fb2202",
       "version_major": 2,
       "version_minor": 0
      },
      "text/plain": [
       "Executing:   0%|          | 0/4 [00:00<?, ?cell/s]"
      ]
     },
     "metadata": {},
     "output_type": "display_data"
    },
    {
     "name": "stderr",
     "output_type": "stream",
     "text": [
      "2024-11-22 21:46:31,740 - INFO - Executing notebook with kernel: python3\n",
      "2024-11-22 21:46:32,548 - ERROR - Error executing ./4_Divide.ipynb: \n",
      "---------------------------------------------------------------------------\n",
      "Exception encountered at \"In [4]\":\n",
      "---------------------------------------------------------------------------\n",
      "ZeroDivisionError                         Traceback (most recent call last)\n",
      "Cell In[4], line 1\n",
      "----> 1 divide(x,y)\n",
      "\n",
      "Cell In[3], line 2, in divide(x, y)\n",
      "      1 def divide(x,y):\n",
      "----> 2     return x/y\n",
      "\n",
      "ZeroDivisionError: division by zero\n",
      "\n"
     ]
    },
    {
     "data": {
      "text/html": [
       "❌ Execution failed, check the error details and result at the following link -> <a href='./processed_notebook/divide_executed.ipynb' target='_blank'>./processed_notebook/divide_executed.ipynb</a>"
      ],
      "text/plain": [
       "<IPython.core.display.HTML object>"
      ]
     },
     "metadata": {},
     "output_type": "display_data"
    },
    {
     "name": "stderr",
     "output_type": "stream",
     "text": [
      "2024-11-22 21:46:32,556 - INFO - Execution finished for ./4_Divide.ipynb\n",
      "2024-11-22 21:46:32,559 - INFO - Executing ./2_Subtract.ipynb with parameters ⚡ {'x': 10, 'y': 3} ⚡ ...\n",
      "2024-11-22 21:46:32,561 - INFO - Input Notebook:  ./2_Subtract.ipynb\n",
      "2024-11-22 21:46:32,563 - INFO - Output Notebook: ./processed_notebook/subtract_executed.ipynb\n"
     ]
    },
    {
     "data": {
      "application/vnd.jupyter.widget-view+json": {
       "model_id": "0fe14202b2c64e338d03c86e716d8d73",
       "version_major": 2,
       "version_minor": 0
      },
      "text/plain": [
       "Executing:   0%|          | 0/4 [00:00<?, ?cell/s]"
      ]
     },
     "metadata": {},
     "output_type": "display_data"
    },
    {
     "name": "stderr",
     "output_type": "stream",
     "text": [
      "2024-11-22 21:46:33,785 - INFO - Executing notebook with kernel: python3\n"
     ]
    },
    {
     "data": {
      "text/html": [
       "✅ Execution successful, check the result at the following link -> <a href='./processed_notebook/subtract_executed.ipynb' target='_blank'>./processed_notebook/subtract_executed.ipynb</a>"
      ],
      "text/plain": [
       "<IPython.core.display.HTML object>"
      ]
     },
     "metadata": {},
     "output_type": "display_data"
    },
    {
     "name": "stderr",
     "output_type": "stream",
     "text": [
      "2024-11-22 21:46:34,128 - INFO - Execution of ./2_Subtract.ipynb was successful.\n",
      "2024-11-22 21:46:34,130 - INFO - Execution finished for ./2_Subtract.ipynb\n",
      "2024-11-22 21:46:34,132 - INFO - Executing ./3_Multiply.ipynb with parameters ⚡ {'inject_values': {'x': [2, 3], 'y': [4, 5]}} ⚡ ...\n",
      "2024-11-22 21:46:34,134 - INFO - Input Notebook:  ./3_Multiply.ipynb\n",
      "2024-11-22 21:46:34,136 - INFO - Output Notebook: ./processed_notebook/multiply_executed.ipynb\n",
      "2024-11-22 21:46:34,143 - WARNING - Passed unknown parameter: inject_values\n"
     ]
    },
    {
     "data": {
      "application/vnd.jupyter.widget-view+json": {
       "model_id": "90f586a6989f4c43a20b943b6dd83cef",
       "version_major": 2,
       "version_minor": 0
      },
      "text/plain": [
       "Executing:   0%|          | 0/12 [00:00<?, ?cell/s]"
      ]
     },
     "metadata": {},
     "output_type": "display_data"
    },
    {
     "name": "stderr",
     "output_type": "stream",
     "text": [
      "2024-11-22 21:46:35,475 - INFO - Executing notebook with kernel: python3\n"
     ]
    },
    {
     "data": {
      "text/html": [
       "✅ Execution successful, check the result at the following link -> <a href='./processed_notebook/multiply_executed.ipynb' target='_blank'>./processed_notebook/multiply_executed.ipynb</a>"
      ],
      "text/plain": [
       "<IPython.core.display.HTML object>"
      ]
     },
     "metadata": {},
     "output_type": "display_data"
    },
    {
     "name": "stderr",
     "output_type": "stream",
     "text": [
      "2024-11-22 21:46:36,190 - INFO - Execution of ./3_Multiply.ipynb was successful.\n",
      "2024-11-22 21:46:36,192 - INFO - Execution finished for ./3_Multiply.ipynb\n"
     ]
    }
   ],
   "source": [
    "# Step 1: Create an instance of the NotebookExecutionManager class\n",
    "# The 'processed_directory' argument specifies where processed notebooks will be saved\n",
    "processor = NotebookExecutionManager(processed_directory=\"./processed_notebook\")\n",
    "\n",
    "# Step 2: Define the notebooks with parameters\n",
    "# Each tuple contains:\n",
    "# - The input notebook path (e.g., \"1_Add.ipynb\")\n",
    "# - The output notebook path where the executed notebook will be saved (e.g., \"./processed_notebook/add_executed.ipynb\")\n",
    "# - A dictionary of parameters that will be passed to the notebook during execution (e.g., {\"params\": [10, 5, 7]})\n",
    "notebooks_with_parameters = [\n",
    "    (\"./1_Add.ipynb\", f\"{processor.processed_directory}/add_executed.ipynb\", {\"params\": [10, 5, 7]}),\n",
    "    (\"./4_Divide.ipynb\", f\"{processor.processed_directory}/divide_executed.ipynb\", {\"x\": 20, \"y\": 0}),\n",
    "    (\"./2_Subtract.ipynb\", f\"{processor.processed_directory}/subtract_executed.ipynb\", {\"x\": 10, \"y\": 3}),\n",
    "    (\"./3_Multiply.ipynb\", f\"{processor.processed_directory}/multiply_executed.ipynb\", {\"inject_values\": {'x': [2, 3], 'y': [4, 5]}}),\n",
    "]\n",
    "\n",
    "# Step 3: Initialize an empty list to store the execution results of each notebook\n",
    "notebook_execution_results = []\n",
    "\n",
    "# Step 4: Loop through each notebook, execute it with the specified parameters, and store the result\n",
    "# - For each notebook, 'input_path' is the path to the input notebook\n",
    "# - 'output_path' is the location where the executed notebook will be saved\n",
    "# - 'params' is the dictionary of parameters that will be used during execution\n",
    "for input_path, output_path, params in notebooks_with_parameters:\n",
    "    # Call the run_notebook_with_parameters method to execute the notebook\n",
    "    notebook_results = processor.run_notebook_with_parameters(input_path, output_path, params)\n",
    "    \n",
    "    # Append the result of each notebook execution to the results list\n",
    "    notebook_execution_results.append(notebook_results)"
   ]
  },
  {
   "cell_type": "code",
   "execution_count": 3,
   "id": "0374ab44-b47d-407e-b863-8a187ec782d9",
   "metadata": {
    "scrolled": true
   },
   "outputs": [
    {
     "name": "stderr",
     "output_type": "stream",
     "text": [
      "2024-11-22 21:46:36,219 - INFO - 📓 Notebook Name: 1_Add.ipynb\n",
      "2024-11-22 21:46:36,221 - INFO - ⚙️ Default Parameters: {}\n",
      "2024-11-22 21:46:36,223 - INFO - 🔧 Parameters: {'params': [10, 5, 7]}\n",
      "2024-11-22 21:46:36,228 - INFO - 🌐 Environment Variables: {}\n",
      "2024-11-22 21:46:36,230 - INFO - 📥 Input Path: ./1_Add.ipynb\n",
      "2024-11-22 21:46:36,233 - INFO - 📤 Output Path: ./processed_notebook/add_executed.ipynb\n",
      "2024-11-22 21:46:36,234 - INFO - ⚠️ Exception: None\n",
      "2024-11-22 21:46:36,237 - INFO - \n",
      "2024-11-22 21:46:36,239 - INFO - ⚓ Execution Cell Number: cell_3\n",
      "2024-11-22 21:46:36,241 - INFO - 🌀 Operation in the Cell: add(*params)\n",
      "2024-11-22 21:46:36,247 - INFO - ♻️ Variable Cell Name: add(*params)\n",
      "2024-11-22 21:46:36,249 - INFO - ℹ️ Result of the Cell: 22\n",
      "2024-11-22 21:46:36,252 - INFO - \n",
      "2024-11-22 21:46:36,257 - INFO - 📓 Notebook Name: 2_Subtract.ipynb\n",
      "2024-11-22 21:46:36,260 - INFO - ⚙️ Default Parameters: {}\n",
      "2024-11-22 21:46:36,263 - INFO - 🔧 Parameters: {'x': 10, 'y': 3}\n",
      "2024-11-22 21:46:36,265 - INFO - 🌐 Environment Variables: {}\n",
      "2024-11-22 21:46:36,266 - INFO - 📥 Input Path: ./2_Subtract.ipynb\n",
      "2024-11-22 21:46:36,268 - INFO - 📤 Output Path: ./processed_notebook/subtract_executed.ipynb\n",
      "2024-11-22 21:46:36,270 - INFO - ⚠️ Exception: None\n",
      "2024-11-22 21:46:36,272 - INFO - \n",
      "2024-11-22 21:46:36,274 - INFO - ⚓ Execution Cell Number: cell_4\n",
      "2024-11-22 21:46:36,276 - INFO - 🌀 Operation in the Cell: subtract(x,y)\n",
      "2024-11-22 21:46:36,278 - INFO - ♻️ Variable Cell Name: subtract(x,y)\n",
      "2024-11-22 21:46:36,280 - INFO - ℹ️ Result of the Cell: 7\n",
      "2024-11-22 21:46:36,282 - INFO - \n",
      "2024-11-22 21:46:36,283 - INFO - 📓 Notebook Name: 3_Multiply.ipynb\n",
      "2024-11-22 21:46:36,285 - INFO - ⚙️ Default Parameters: {}\n",
      "2024-11-22 21:46:36,287 - INFO - 🔧 Parameters: {'inject_values': {'x': [2, 3], 'y': [4, 5]}}\n",
      "2024-11-22 21:46:36,288 - INFO - 🌐 Environment Variables: {}\n",
      "2024-11-22 21:46:36,289 - INFO - 📥 Input Path: ./3_Multiply.ipynb\n",
      "2024-11-22 21:46:36,292 - INFO - 📤 Output Path: ./processed_notebook/multiply_executed.ipynb\n",
      "2024-11-22 21:46:36,299 - INFO - ⚠️ Exception: None\n",
      "2024-11-22 21:46:36,301 - INFO - \n",
      "2024-11-22 21:46:36,302 - INFO - ⚓ Execution Cell Number: cell_4\n",
      "2024-11-22 21:46:36,304 - INFO - 🌀 Operation in the Cell: multiply(x,y)\n",
      "2024-11-22 21:46:36,315 - INFO - ♻️ Variable Cell Name: multiply(x,y)\n",
      "2024-11-22 21:46:36,317 - INFO - ℹ️ Result of the Cell: 45\n",
      "2024-11-22 21:46:36,318 - INFO - \n",
      "2024-11-22 21:46:36,320 - INFO - ⚓ Execution Cell Number: cell_5\n",
      "2024-11-22 21:46:36,322 - INFO - 🌀 Operation in the Cell: one = multiply(x,y)\n",
      "one\n",
      "2024-11-22 21:46:36,323 - INFO - ♻️ Variable Cell Name: one\n",
      "2024-11-22 21:46:36,325 - INFO - ℹ️ Result of the Cell: 45\n",
      "2024-11-22 21:46:36,326 - INFO - \n",
      "2024-11-22 21:46:36,328 - INFO - ⚓ Execution Cell Number: cell_6\n",
      "2024-11-22 21:46:36,330 - INFO - 🌀 Operation in the Cell: two = multiply(x,y) * 2\n",
      "two\n",
      "2024-11-22 21:46:36,332 - INFO - ♻️ Variable Cell Name: two\n",
      "2024-11-22 21:46:36,334 - INFO - ℹ️ Result of the Cell: 90\n",
      "2024-11-22 21:46:36,335 - INFO - \n",
      "2024-11-22 21:46:36,337 - INFO - ⚓ Execution Cell Number: cell_7\n",
      "2024-11-22 21:46:36,339 - INFO - 🌀 Operation in the Cell: three = multiply(x,y) * 3\n",
      "three\n",
      "2024-11-22 21:46:36,340 - INFO - ♻️ Variable Cell Name: three\n",
      "2024-11-22 21:46:36,342 - INFO - ℹ️ Result of the Cell: 135\n",
      "2024-11-22 21:46:36,344 - INFO - \n",
      "2024-11-22 21:46:36,345 - INFO - ⚓ Execution Cell Number: cell_8\n",
      "2024-11-22 21:46:36,347 - INFO - 🌀 Operation in the Cell: four = one + two + three\n",
      "four\n",
      "2024-11-22 21:46:36,349 - INFO - ♻️ Variable Cell Name: four\n",
      "2024-11-22 21:46:36,352 - INFO - ℹ️ Result of the Cell: 270\n",
      "2024-11-22 21:46:36,354 - INFO - \n",
      "2024-11-22 21:46:36,356 - INFO - ⚓ Execution Cell Number: cell_9\n",
      "2024-11-22 21:46:36,358 - INFO - 🌀 Operation in the Cell: five, six, sevent, eight = one, two, three, four\n",
      "five, six, sevent, eight\n",
      "2024-11-22 21:46:36,361 - INFO - ♻️ Variable Cell Name: five\n",
      "2024-11-22 21:46:36,362 - INFO - ℹ️ Result of the Cell: 45\n",
      "2024-11-22 21:46:36,364 - INFO - \n",
      "2024-11-22 21:46:36,367 - INFO - ⚓ Execution Cell Number: cell_9\n",
      "2024-11-22 21:46:36,383 - INFO - 🌀 Operation in the Cell: five, six, sevent, eight = one, two, three, four\n",
      "five, six, sevent, eight\n",
      "2024-11-22 21:46:36,385 - INFO - ♻️ Variable Cell Name: six\n",
      "2024-11-22 21:46:36,387 - INFO - ℹ️ Result of the Cell: 90\n",
      "2024-11-22 21:46:36,391 - INFO - \n",
      "2024-11-22 21:46:36,393 - INFO - ⚓ Execution Cell Number: cell_9\n",
      "2024-11-22 21:46:36,395 - INFO - 🌀 Operation in the Cell: five, six, sevent, eight = one, two, three, four\n",
      "five, six, sevent, eight\n",
      "2024-11-22 21:46:36,396 - INFO - ♻️ Variable Cell Name: sevent\n",
      "2024-11-22 21:46:36,398 - INFO - ℹ️ Result of the Cell: 135\n",
      "2024-11-22 21:46:36,403 - INFO - \n",
      "2024-11-22 21:46:36,405 - INFO - ⚓ Execution Cell Number: cell_9\n",
      "2024-11-22 21:46:36,407 - INFO - 🌀 Operation in the Cell: five, six, sevent, eight = one, two, three, four\n",
      "five, six, sevent, eight\n",
      "2024-11-22 21:46:36,409 - INFO - ♻️ Variable Cell Name: eight\n",
      "2024-11-22 21:46:36,410 - INFO - ℹ️ Result of the Cell: 270\n",
      "2024-11-22 21:46:36,412 - INFO - \n",
      "2024-11-22 21:46:36,413 - INFO - ⚓ Execution Cell Number: cell_10\n",
      "2024-11-22 21:46:36,416 - INFO - 🌀 Operation in the Cell: nine = [five, six, sevent, eight]\n",
      "nine\n",
      "2024-11-22 21:46:36,417 - INFO - ♻️ Variable Cell Name: nine\n",
      "2024-11-22 21:46:36,421 - INFO - ℹ️ Result of the Cell: [45, 90, 135, 270]\n",
      "2024-11-22 21:46:36,422 - INFO - \n",
      "2024-11-22 21:46:36,432 - INFO - ⚓ Execution Cell Number: cell_11\n",
      "2024-11-22 21:46:36,433 - INFO - 🌀 Operation in the Cell: ten = {'one':one, 'two':two, 'nine':nine}\n",
      "ten\n",
      "2024-11-22 21:46:36,438 - INFO - ♻️ Variable Cell Name: ten\n",
      "2024-11-22 21:46:36,439 - INFO - ℹ️ Result of the Cell: {'one': 45, 'two': 90, 'nine': [45, 90, 135, 270]}\n",
      "2024-11-22 21:46:36,441 - INFO - \n"
     ]
    },
    {
     "data": {
      "text/plain": [
       "[{'add(*params)': 22},\n",
       " {'subtract(x,y)': 7},\n",
       " {'multiply(x,y)': 45,\n",
       "  'one': 45,\n",
       "  'two': 90,\n",
       "  'three': 135,\n",
       "  'four': 270,\n",
       "  'five': 45,\n",
       "  'six': 90,\n",
       "  'sevent': 135,\n",
       "  'eight': 270,\n",
       "  'nine': [45, 90, 135, 270],\n",
       "  'ten': {'one': 45, 'two': 90, 'nine': [45, 90, 135, 270]}}]"
      ]
     },
     "execution_count": 3,
     "metadata": {},
     "output_type": "execute_result"
    }
   ],
   "source": [
    "# Step 5: Iterate over each notebook result and extract variable data\n",
    "# For each executed notebook, if the execution was successful (not None),\n",
    "# we extract the variable data and display it\n",
    "notebook_variables = list()\n",
    "\n",
    "for notebook_result in notebook_execution_results:\n",
    "    if notebook_result:\n",
    "        # Extract variable data from the notebook's cells\n",
    "        extracted_data = processor.extract_variable_data_from_notebook_cells(notebook_result)\n",
    "        \n",
    "        # Display the extracted data (variable names, values, etc.)\n",
    "        notebook_variables.append(processor.display_notebook_variables_and_values_extracted_from_notebook(extracted_data))\n",
    "\n",
    "notebook_variables"
   ]
  }
 ],
 "metadata": {
  "kernelspec": {
   "display_name": "Python - ML - Data Science",
   "language": "python",
   "name": "python3"
  },
  "language_info": {
   "codemirror_mode": {
    "name": "ipython",
    "version": 3
   },
   "file_extension": ".py",
   "mimetype": "text/x-python",
   "name": "python",
   "nbconvert_exporter": "python",
   "pygments_lexer": "ipython3",
   "version": "3.12.7"
  }
 },
 "nbformat": 4,
 "nbformat_minor": 5
}
